{
 "cells": [
  {
   "cell_type": "markdown",
   "id": "6abc4cc8",
   "metadata": {},
   "source": [
    "## Numpy array operation\n"
   ]
  },
  {
   "cell_type": "code",
   "execution_count": 1,
   "id": "100e688b",
   "metadata": {},
   "outputs": [],
   "source": [
    "import numpy as np\n"
   ]
  },
  {
   "cell_type": "code",
   "execution_count": 7,
   "id": "cb3f25d8",
   "metadata": {},
   "outputs": [
    {
     "name": "stdout",
     "output_type": "stream",
     "text": [
      "basic slicing [3 4 5]\n",
      "with step [2 4 6 8]\n",
      "negative indexing 8\n"
     ]
    }
   ],
   "source": [
    "arr=np.array([1,2,3,4,5,6,7,8,9,10])\n",
    "print(\"basic slicing\",arr[2:5])\n",
    "\n",
    "print(\"with step\",arr[1:8:2])\n",
    "print(\"negative indexing\",arr[-3])\n",
    "\n"
   ]
  },
  {
   "cell_type": "code",
   "execution_count": 15,
   "id": "9edfddfa",
   "metadata": {},
   "outputs": [
    {
     "name": "stdout",
     "output_type": "stream",
     "text": [
      "specific element 6\n",
      "whole row:  [4 5 6]\n",
      "whole coloum [1 4 7]\n"
     ]
    }
   ],
   "source": [
    "arr_2d=np.array([[1,2,3],[4,5,6],[7,8,9]])\n",
    "print(\"specific element\",arr_2d[1,2])\n",
    "print(\"whole row: \",arr_2d[1])\n",
    "print(\"whole coloum\",arr_2d[:,0])"
   ]
  },
  {
   "cell_type": "markdown",
   "id": "e56ce5dc",
   "metadata": {},
   "source": [
    "## sorting"
   ]
  },
  {
   "cell_type": "code",
   "execution_count": 23,
   "id": "b9ac1152",
   "metadata": {},
   "outputs": [
    {
     "name": "stdout",
     "output_type": "stream",
     "text": [
      "sorted array [1 1 2 3 4 5 6 9]\n",
      "sorted 2d array by colum [[1 1]\n",
      " [2 2]\n",
      " [3 3]]\n"
     ]
    }
   ],
   "source": [
    "unsorted=np.array([3,1,4,1,5,9,2,6])\n",
    "print(\"sorted array\",np.sort(unsorted))\n",
    "\n",
    "arr_2d_unsorted=np.array([[3,1],[1,2],[2,3]])\n",
    "print(\"sorted 2d array by colum\",np.sort(arr_2d_unsorted,axis=0))"
   ]
  },
  {
   "cell_type": "markdown",
   "id": "27c68a31",
   "metadata": {},
   "source": [
    "## filtering"
   ]
  },
  {
   "cell_type": "code",
   "execution_count": 26,
   "id": "153cf7da",
   "metadata": {},
   "outputs": [
    {
     "name": "stdout",
     "output_type": "stream",
     "text": [
      "even numbers [ 2  4  6  8 10]\n"
     ]
    }
   ],
   "source": [
    "numbers=np.array([1,2,3,4,5,6,7,8,9,10])\n",
    "even_number=numbers[numbers%2==0]\n",
    "print(\"even numbers\",even_number)"
   ]
  },
  {
   "cell_type": "markdown",
   "id": "71d27fc6",
   "metadata": {},
   "source": [
    "filter with mask"
   ]
  },
  {
   "cell_type": "code",
   "execution_count": 31,
   "id": "e6c6d787",
   "metadata": {},
   "outputs": [
    {
     "name": "stdout",
     "output_type": "stream",
     "text": [
      "number greater then 5 : [ 6  7  8  9 10]\n"
     ]
    }
   ],
   "source": [
    "mask=numbers>5\n",
    "print(\"number greater then 5 :\",numbers[mask])"
   ]
  },
  {
   "cell_type": "markdown",
   "id": "7314013b",
   "metadata": {},
   "source": [
    "## facny indexing vs np.where()"
   ]
  },
  {
   "cell_type": "code",
   "execution_count": 37,
   "id": "b9396820",
   "metadata": {},
   "outputs": [
    {
     "name": "stdout",
     "output_type": "stream",
     "text": [
      "[1 3 5]\n",
      "np where [ 6  7  8  9 10]\n"
     ]
    }
   ],
   "source": [
    "indices=[0,2,4]\n",
    "print(numbers[indices])\n",
    "\n",
    "where_result=np.where(numbers>5)\n",
    "print(\"np where\",numbers[where_result])"
   ]
  },
  {
   "cell_type": "code",
   "execution_count": 48,
   "id": "3c87d5bf",
   "metadata": {},
   "outputs": [
    {
     "name": "stdout",
     "output_type": "stream",
     "text": [
      "[ 1  2  3  4  5 12 14 16 18 20]\n"
     ]
    }
   ],
   "source": [
    "condition_arr=np.where(numbers>5,numbers*2,numbers)\n",
    "print(condition_arr)\n"
   ]
  },
  {
   "cell_type": "markdown",
   "id": "1150e251",
   "metadata": {},
   "source": [
    "## adding an removing data"
   ]
  },
  {
   "cell_type": "code",
   "execution_count": 53,
   "id": "27f828cf",
   "metadata": {},
   "outputs": [
    {
     "name": "stdout",
     "output_type": "stream",
     "text": [
      "combined array [1 2 3 3 4 5]\n"
     ]
    }
   ],
   "source": [
    "arr1=np.array([1,2,3])\n",
    "arr2=np.array([3,4,5])\n",
    "combined=np.concatenate((arr1,arr2))\n",
    "print(\"combined array\",combined)"
   ]
  },
  {
   "cell_type": "markdown",
   "id": "9b65ab51",
   "metadata": {},
   "source": [
    "## array compatiblitly"
   ]
  },
  {
   "cell_type": "code",
   "execution_count": 54,
   "id": "887cad44",
   "metadata": {},
   "outputs": [
    {
     "name": "stdout",
     "output_type": "stream",
     "text": [
      "compatibleity shape True\n"
     ]
    }
   ],
   "source": [
    "a=np.array([1,2,3])\n",
    "b=np.array([4,5,6])\n",
    "c=np.array([7,8,9])\n",
    "\n",
    "print(\"compatibleity shape\",a.shape==b.shape)"
   ]
  },
  {
   "cell_type": "code",
   "execution_count": 60,
   "id": "6e4499b0",
   "metadata": {},
   "outputs": [
    {
     "name": "stdout",
     "output_type": "stream",
     "text": [
      "[[1 2]\n",
      " [3 4]\n",
      " [6 7]]\n",
      "[[1 2]\n",
      " [3 4]\n",
      " [6 7]\n",
      " [5 6]]\n",
      "[[1 2 7]\n",
      " [3 4 8]\n",
      " [6 7 9]]\n"
     ]
    }
   ],
   "source": [
    "orignal=np.array([[1,2],[3,4],[6,7]])\n",
    "new_row=np.array([[5,6]])\n",
    "with_new_row=np.vstack((orignal,new_row))\n",
    "\n",
    "print(orignal)\n",
    "print(with_new_row)\n",
    "\n",
    "new_col=np.array([[7],[8],[9]])\n",
    "with_new_col=np.hstack((orignal,new_col))\n",
    "print(with_new_col)"
   ]
  },
  {
   "cell_type": "code",
   "execution_count": 67,
   "id": "0207cea3",
   "metadata": {},
   "outputs": [
    {
     "name": "stdout",
     "output_type": "stream",
     "text": [
      "array after deletion [1 2 4 5]\n"
     ]
    }
   ],
   "source": [
    "arr=np.array([1,2,3,4,5])\n",
    "deleted=np.delete(arr,2)\n",
    "print(\"array after deletion\",deleted)"
   ]
  }
 ],
 "metadata": {
  "kernelspec": {
   "display_name": "numpy",
   "language": "python",
   "name": "python3"
  },
  "language_info": {
   "codemirror_mode": {
    "name": "ipython",
    "version": 3
   },
   "file_extension": ".py",
   "mimetype": "text/x-python",
   "name": "python",
   "nbconvert_exporter": "python",
   "pygments_lexer": "ipython3",
   "version": "3.13.5"
  }
 },
 "nbformat": 4,
 "nbformat_minor": 5
}
