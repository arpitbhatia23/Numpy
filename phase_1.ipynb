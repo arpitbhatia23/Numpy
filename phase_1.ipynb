{
 "cells": [
  {
   "cell_type": "markdown",
   "id": "e1723fe9",
   "metadata": {},
   "source": [
    "## Numpy basic and array\n",
    "learn about numpy with chai aur code\n"
   ]
  },
  {
   "cell_type": "code",
   "execution_count": 1,
   "id": "860e5719",
   "metadata": {},
   "outputs": [],
   "source": [
    "import numpy as np"
   ]
  },
  {
   "cell_type": "code",
   "execution_count": 2,
   "id": "975416e7",
   "metadata": {},
   "outputs": [
    {
     "name": "stdout",
     "output_type": "stream",
     "text": [
      "array 1  [1 2 3 4 5]\n",
      "2d array [[1 2 3]\n",
      " [4 5 6]]\n"
     ]
    }
   ],
   "source": [
    "arr_1d =np.array([1,2,3,4,5])\n",
    "print(\"array 1 \" ,arr_1d)\n",
    "\n",
    "arr_2d=np.array([[1,2,3],[4,5,6]])\n",
    "print(\"2d array\",arr_2d)\n"
   ]
  },
  {
   "cell_type": "code",
   "execution_count": 8,
   "id": "ff55323e",
   "metadata": {},
   "outputs": [
    {
     "name": "stdout",
     "output_type": "stream",
     "text": [
      "python list multiplication [1, 2, 3, 4, 1, 2, 3, 4]\n",
      " numpy  array multiplication [2 4 6 8]\n",
      "\n",
      " lsit operatio time  1.2305827140808105\n",
      "\n",
      " lsit operatio time  0.056890249252319336\n"
     ]
    }
   ],
   "source": [
    "py_list=[1,2,3,4]\n",
    "print('python list multiplication',py_list*2)\n",
    "np_array=np.array([1,2,3,4])\n",
    "print(\" numpy  array multiplication\",np_array*2)\n",
    "\n",
    "\n",
    "import time\n",
    "start=time.time()\n",
    "py_list=[i*2 for i in range(10000000)]\n",
    "print('\\n lsit operatio time ',time.time()-start)\n",
    "\n",
    "start=time.time()\n",
    "np_array=np.arange(10000000)\n",
    "print('\\n lsit operatio time ',time.time()-start)\n"
   ]
  },
  {
   "cell_type": "markdown",
   "id": "062adaed",
   "metadata": {},
   "source": [
    "## creating array from scratch\n"
   ]
  },
  {
   "cell_type": "code",
   "execution_count": 21,
   "id": "105083bf",
   "metadata": {},
   "outputs": [
    {
     "name": "stdout",
     "output_type": "stream",
     "text": [
      "zeros array [[0. 0. 0. 0.]\n",
      " [0. 0. 0. 0.]\n",
      " [0. 0. 0. 0.]]\n",
      "ones array [[1. 1. 1.]\n",
      " [1. 1. 1.]]\n",
      "full array: \n",
      " [[7 7 7 7]\n",
      " [7 7 7 7]\n",
      " [7 7 7 7]]\n",
      "random array [[0.59383643 0.16899721 0.24967456 0.5709623 ]\n",
      " [0.9765133  0.70677701 0.45097856 0.15296465]\n",
      " [0.37602446 0.5692541  0.3506823  0.50970992]]\n",
      "sequence array [0 2 4 6 8]\n"
     ]
    }
   ],
   "source": [
    "zeros=np.zeros((3,4))\n",
    "print('zeros array',zeros)\n",
    "\n",
    "ones=np.ones((2,3))\n",
    "print(\"ones array\",ones)\n",
    "\n",
    "full=np.full((3,4),7)\n",
    "print(\"full array: \\n\",full)\n",
    "\n",
    "random_arr=np.random.random((3,4))\n",
    "\n",
    "print(\"random array\",random_arr)\n",
    "\n",
    "sequence=np.arange(0,10,2)\n",
    "print(\"sequence array\",sequence)\n",
    "\n"
   ]
  },
  {
   "cell_type": "markdown",
   "id": "0ada3f54",
   "metadata": {},
   "source": [
    "### vector ,matrix and tensor\n"
   ]
  },
  {
   "cell_type": "code",
   "execution_count": 25,
   "id": "7a787789",
   "metadata": {},
   "outputs": [
    {
     "name": "stdout",
     "output_type": "stream",
     "text": [
      "vector: [1 2 3]\n",
      "matrix : [[1 2 3]\n",
      " [4 5 6]]\n",
      "tensor : [[[1 2]\n",
      "  [3 4]]\n",
      "\n",
      " [[5 6]\n",
      "  [7 8]]]\n"
     ]
    }
   ],
   "source": [
    "vector=np.array([1,2,3])\n",
    "print(\"vector:\",vector) \n",
    "\n",
    "matrix=np.array([[1,2,3],\n",
    "                [4,5,6]])\n",
    "\n",
    "print(\"matrix :\",matrix)\n",
    "\n",
    "tesnor=np.array([\n",
    "                [[1,2],[3,4]],\n",
    "                [[5,6],[7,8]]\n",
    "                ])\n",
    "\n",
    "print('tensor :', tesnor)"
   ]
  },
  {
   "cell_type": "markdown",
   "id": "8de300f8",
   "metadata": {},
   "source": [
    "### Array proprty\n"
   ]
  },
  {
   "cell_type": "code",
   "execution_count": 32,
   "id": "91d0bc8b",
   "metadata": {},
   "outputs": [
    {
     "name": "stdout",
     "output_type": "stream",
     "text": [
      "shape (2, 3)\n",
      "dimesion 2\n",
      "size 6\n",
      "data type int64\n"
     ]
    }
   ],
   "source": [
    "arr=np.array([[1,2,3],\n",
    "              [4,5,6]])\n",
    "print(\"shape\",arr.shape)\n",
    "print('dimesion',arr.ndim)\n",
    "print('size',arr.size)\n",
    "print('data type',arr.dtype)"
   ]
  },
  {
   "cell_type": "markdown",
   "id": "26c8f800",
   "metadata": {},
   "source": [
    "## array reshaping\n"
   ]
  },
  {
   "cell_type": "code",
   "execution_count": null,
   "id": "d5aa3b0b",
   "metadata": {},
   "outputs": [
    {
     "name": "stdout",
     "output_type": "stream",
     "text": [
      "orignal array [ 0  1  2  3  4  5  6  7  8  9 10 11]\n",
      "reshape array : \n",
      "  [[ 0  1  2  3]\n",
      " [ 4  5  6  7]\n",
      " [ 8  9 10 11]]\n",
      "flatend: \n",
      " [ 0  1  2  3  4  5  6  7  8  9 10 11]\n",
      "raveld:\n",
      " [ 0  1  2  3  4  5  6  7  8  9 10 11]\n",
      "transpose:\n",
      " [[ 0  4  8]\n",
      " [ 1  5  9]\n",
      " [ 2  6 10]\n",
      " [ 3  7 11]]\n"
     ]
    }
   ],
   "source": [
    "arr=np.arange(12)\n",
    "print('orignal array',arr)\n",
    "\n",
    "reshaped=arr.reshape((3,4))\n",
    "print(\"reshape array : \\n \",reshaped)\n",
    "\n",
    "flattend=reshaped.flatten()\n",
    "print(\"flatend: \\n\",flattend)\n",
    "#return view instead of copy\n",
    "raveled=reshaped.ravel()\n",
    "print(\"raveld:\\n\",raveled)\n",
    "\n",
    "#transpose \n",
    "\n",
    "tranpose=reshaped.T\n",
    "print(\"transpose:\\n\",tranpose)\n",
    "\n"
   ]
  }
 ],
 "metadata": {
  "kernelspec": {
   "display_name": "numpy",
   "language": "python",
   "name": "python3"
  },
  "language_info": {
   "codemirror_mode": {
    "name": "ipython",
    "version": 3
   },
   "file_extension": ".py",
   "mimetype": "text/x-python",
   "name": "python",
   "nbconvert_exporter": "python",
   "pygments_lexer": "ipython3",
   "version": "3.13.5"
  }
 },
 "nbformat": 4,
 "nbformat_minor": 5
}
